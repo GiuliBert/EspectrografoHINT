{
 "cells": [
  {
   "cell_type": "code",
   "execution_count": null,
   "id": "47b6e8a5",
   "metadata": {},
   "outputs": [],
   "source": [
    "#1) ENCHUFAR EL ARDUINO A LA COMPUTADORA\n",
    "#2) EJECUTAR EL PROGRAMA DE PYTHON\n",
    "#3) PRENDER EL SWITCH Y UNA VEZ QUE ARRANCÓ A MOVER EL SERVO, APAGAR EL SWITCH\n"
   ]
  },
  {
   "cell_type": "code",
   "execution_count": 10,
   "id": "ac2023f9",
   "metadata": {},
   "outputs": [],
   "source": [
    "import serial\n",
    "import time\n",
    "import matplotlib.pyplot as plt\n",
    "import numpy as np\n",
    "ser = serial.Serial('COM5', 9600)"
   ]
  },
  {
   "cell_type": "code",
   "execution_count": 11,
   "id": "ba3b02f9",
   "metadata": {},
   "outputs": [],
   "source": [
    "mediciones = 130\n",
    "\n",
    "times = np.empty(mediciones)\n",
    "angulos = np.zeros(mediciones)\n",
    "intensidades = np.empty(mediciones)\n",
    "\n",
    "dis = len('Ángulo actual: ')\n",
    "\n",
    "\n",
    "\n"
   ]
  },
  {
   "cell_type": "code",
   "execution_count": 27,
   "id": "12b15210",
   "metadata": {},
   "outputs": [
    {
     "name": "stdout",
     "output_type": "stream",
     "text": [
      "[  1.   2.   3.   4.   5.   6.   7.   8.   9.  10.  11.  12.  13.  14.\n",
      "  15.  16.  17.  18.  19.  20.  21.  22.  23.  24.  25.  26.  27.  28.\n",
      "  29.  30.  31.  32.  33.  34.  35.  36.  37.  38.  39.  40.  41.  42.\n",
      "  43.  44.  45.  46.  47.  48.  49.  50.  51.  52.  53.  54.  55.  56.\n",
      "  57.  58.  59.  60.  61.  62.  63.  64.  65.  66.  67.  68.  69.  70.\n",
      "  71.  72.  73.  74.  75.  76.  77.  78.  79.  80.  81.  82.  83.  84.\n",
      "  85.  86.  87.  88.  89.  90.  91.  92.  93.  94.  95.  96.  97.  98.\n",
      "  99. 100. 101. 102. 103. 104. 105. 106. 107. 108. 109. 110. 111. 112.\n",
      " 113. 114. 115. 116. 117. 118. 119. 120. 121. 122. 123. 124. 125. 126.\n",
      " 127. 128. 129. 130.]\n",
      "[784. 784. 784. 783. 780. 779. 779. 779. 782. 783. 783. 783. 782. 783.\n",
      " 783. 783. 783. 784. 784. 784. 784. 784. 785. 784. 784. 784. 784. 785.\n",
      " 784. 784. 785. 785. 785. 785. 785. 785. 785. 785. 782. 781. 778. 785.\n",
      " 785. 787. 793. 791. 788. 788. 790. 789. 788. 781. 739. 786. 698. 785.\n",
      " 788. 788. 572. 593. 543. 510. 481. 368. 330. 331. 332. 335. 664. 781.\n",
      " 782. 783. 786. 786. 784. 784. 909. 947. 946. 862. 785. 785. 785. 783.\n",
      " 783. 783. 783. 783. 783. 783. 783. 783. 783. 783. 783. 783. 782. 782.\n",
      " 783. 783. 783. 783. 783. 783. 783. 783. 783. 783. 782. 782. 782. 782.\n",
      " 782. 783. 782. 782. 782. 782. 783. 782. 783. 630. 547. 569. 485. 431.\n",
      " 396. 398. 403. 401.]\n"
     ]
    }
   ],
   "source": [
    "while True:\n",
    "    line = ser.readline().decode().strip()\n",
    "    if len(line) > 4:\n",
    "        angulo = int(line[dis:])\n",
    "        if angulo == 0:\n",
    "            break  # Sale del bucle y comienza a tomar datos\n",
    "\n",
    "\n",
    "\n",
    "\n",
    "ii= 0\n",
    "jj = 0\n",
    "\n",
    "for i in range(mediciones*2):\n",
    "    # Leeo la linea del puerto serie\n",
    "    # Decodifico y elimino espacios en blanco\n",
    "   \n",
    "    line = ser.readline().decode().strip()\n",
    "    \n",
    "    if len(line)>4: # guardo ángulos\n",
    "        # Si la linea es mayor a 5 caracteres, la proceso\n",
    "        angulos[ii] = int(line[dis:])    \n",
    "        ii = ii + 1\n",
    "            \n",
    "    else:\n",
    "        # Si la linea es menor a 5 caracteres, la interpreto como intensidad\n",
    "        # y guardo el tiempo\n",
    "        \n",
    "        intensidades[jj] = int(line)\n",
    "        jj = jj + 1\n",
    "print(angulos)\n",
    "print(intensidades)\n",
    "           \n",
    "        \n",
    "        \n",
    "        "
   ]
  },
  {
   "cell_type": "code",
   "execution_count": 28,
   "id": "52850039",
   "metadata": {},
   "outputs": [
    {
     "data": {
      "text/plain": [
       "Text(0, 0.5, 'Intensidad (%)')"
      ]
     },
     "execution_count": 28,
     "metadata": {},
     "output_type": "execute_result"
    },
    {
     "data": {
      "image/png": "[encoded data removed]",
      "text/plain": [
       "<Figure size 640x480 with 1 Axes>"
      ]
     },
     "metadata": {},
     "output_type": "display_data"
    }
   ],
   "source": [
    "intensidadesN = (intensidades / max(intensidades))*100\n",
    "\n",
    "plt.plot(angulos, intensidadesN)\n",
    "plt.xlabel('Ángulo (grados)')\n",
    "plt.ylabel('Intensidad (%)')"
   ]
  }
 ],
 "metadata": {
  "kernelspec": {
   "display_name": "Python 3",
   "language": "python",
   "name": "python3"
  },
  "language_info": {
   "codemirror_mode": {
    "name": "ipython",
    "version": 3
   },
   "file_extension": ".py",
   "mimetype": "text/x-python",
   "name": "python",
   "nbconvert_exporter": "python",
   "pygments_lexer": "ipython3",
   "version": "3.11.9"
  }
 },
 "nbformat": 4,
 "nbformat_minor": 5
}
